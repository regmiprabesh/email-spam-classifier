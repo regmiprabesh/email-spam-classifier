{
 "cells": [
  {
   "cell_type": "markdown",
   "id": "4b7c6c04-d85d-4ed4-9374-d7af86dff33a",
   "metadata": {},
   "source": [
    "# Filtering Spam E-Mails"
   ]
  },
  {
   "cell_type": "markdown",
   "id": "4578d053-3f05-47e9-94db-f2da05f2f189",
   "metadata": {},
   "source": [
    "# About Bayes Theorem and Naive Bayes\n",
    "Bayes Theorem is a probability theorem that explained first by **Thomas Bayes** It has a simple formula,\n",
    "\n",
    "![title](images/bayes.png)\n"
   ]
  },
  {
   "cell_type": "markdown",
   "id": "360113e4-8919-4bf2-9367-a9e390ade236",
   "metadata": {},
   "source": [
    "If we apply it to our work, it will be:\n",
    "* **Posterior Probability ( P(A|B) ) = Probability of data being spam and probability of data being real.**\n",
    "* **Likelihood ( P(B|A) ) = Probability of spam mails being data.**\n",
    "* **Class Prior Probability ( P(A) ) = Probability of class being spam**\n",
    "\n",
    "And naive bayes algorithm computes probabilities using bayes theorem. Naive Bayes algorithm is a lazy algorithm. We don't train them because they don't have something we can train (like a line or a neuron) so preparing it takes very short time.\n",
    "\n",
    "Naive Bayes computes probabilities and chooses the best probability. Although Naive Bayes is a good and fast classifier, it has a real problem: **Zero Frequency**\n",
    "\n",
    "Let's take a look at the formula again: Especially at the Likelihood. We said **probability of spam mails being data**. Data includes feature (we'll use bag of words technique, so each feature will be a word) and if a feature has a value that not occured in the data, its probability will be **zero** (impossible) There are techniques to prevent this problem but we won't need them.\n",
    "\n"
   ]
  },
  {
   "cell_type": "code",
   "execution_count": 54,
   "id": "e2bb2f98-1a83-4899-833b-74a9e65eee38",
   "metadata": {},
   "outputs": [],
   "source": [
    "#import packages\n",
    "import pandas as pd\n",
    "import numpy as np\n",
    "from sklearn.model_selection import train_test_split\n",
    "from sklearn.feature_extraction.text import CountVectorizer\n",
    "from sklearn.naive_bayes import MultinomialNB"
   ]
  },
  {
   "cell_type": "markdown",
   "id": "a52c3404-567d-4e50-86e4-6b7e1cb859d7",
   "metadata": {},
   "source": [
    "* We have three different dataset that contains spam and ham mails. Let's clear and concatenate them."
   ]
  },
  {
   "cell_type": "code",
   "execution_count": 2,
   "id": "e1dae9c6-33dd-4246-8bfb-4476f0beb9b3",
   "metadata": {},
   "outputs": [],
   "source": [
    "#import data\n",
    "data1 = pd.read_csv('Dataset/dataset1.csv')\n",
    "data2 = pd.read_csv('Dataset/dataset2.csv')\n",
    "data3 = pd.read_csv('Dataset/dataset3.csv')"
   ]
  },
  {
   "cell_type": "code",
   "execution_count": 3,
   "id": "b91b1623-76bf-44f3-bac5-baa6519f1857",
   "metadata": {},
   "outputs": [
    {
     "data": {
      "text/html": [
       "<div>\n",
       "<style scoped>\n",
       "    .dataframe tbody tr th:only-of-type {\n",
       "        vertical-align: middle;\n",
       "    }\n",
       "\n",
       "    .dataframe tbody tr th {\n",
       "        vertical-align: top;\n",
       "    }\n",
       "\n",
       "    .dataframe thead th {\n",
       "        text-align: right;\n",
       "    }\n",
       "</style>\n",
       "<table border=\"1\" class=\"dataframe\">\n",
       "  <thead>\n",
       "    <tr style=\"text-align: right;\">\n",
       "      <th></th>\n",
       "      <th>Unnamed: 0</th>\n",
       "      <th>Body</th>\n",
       "      <th>Label</th>\n",
       "    </tr>\n",
       "  </thead>\n",
       "  <tbody>\n",
       "    <tr>\n",
       "      <th>0</th>\n",
       "      <td>0</td>\n",
       "      <td>\\nSave up to 70% on Life Insurance.\\nWhy Spend...</td>\n",
       "      <td>1</td>\n",
       "    </tr>\n",
       "    <tr>\n",
       "      <th>1</th>\n",
       "      <td>1</td>\n",
       "      <td>1) Fight The Risk of Cancer!\\nhttp://www.adcli...</td>\n",
       "      <td>1</td>\n",
       "    </tr>\n",
       "    <tr>\n",
       "      <th>2</th>\n",
       "      <td>2</td>\n",
       "      <td>1) Fight The Risk of Cancer!\\nhttp://www.adcli...</td>\n",
       "      <td>1</td>\n",
       "    </tr>\n",
       "    <tr>\n",
       "      <th>3</th>\n",
       "      <td>3</td>\n",
       "      <td>##############################################...</td>\n",
       "      <td>1</td>\n",
       "    </tr>\n",
       "    <tr>\n",
       "      <th>4</th>\n",
       "      <td>4</td>\n",
       "      <td>I thought you might like these:\\n1) Slim Down ...</td>\n",
       "      <td>1</td>\n",
       "    </tr>\n",
       "  </tbody>\n",
       "</table>\n",
       "</div>"
      ],
      "text/plain": [
       "   Unnamed: 0                                               Body  Label\n",
       "0           0  \\nSave up to 70% on Life Insurance.\\nWhy Spend...      1\n",
       "1           1  1) Fight The Risk of Cancer!\\nhttp://www.adcli...      1\n",
       "2           2  1) Fight The Risk of Cancer!\\nhttp://www.adcli...      1\n",
       "3           3  ##############################################...      1\n",
       "4           4  I thought you might like these:\\n1) Slim Down ...      1"
      ]
     },
     "execution_count": 3,
     "metadata": {},
     "output_type": "execute_result"
    }
   ],
   "source": [
    "data1.head()"
   ]
  },
  {
   "cell_type": "code",
   "execution_count": 4,
   "id": "df330a98-e9b9-4a82-a7a8-1a3aa467ad57",
   "metadata": {},
   "outputs": [
    {
     "data": {
      "text/html": [
       "<div>\n",
       "<style scoped>\n",
       "    .dataframe tbody tr th:only-of-type {\n",
       "        vertical-align: middle;\n",
       "    }\n",
       "\n",
       "    .dataframe tbody tr th {\n",
       "        vertical-align: top;\n",
       "    }\n",
       "\n",
       "    .dataframe thead th {\n",
       "        text-align: right;\n",
       "    }\n",
       "</style>\n",
       "<table border=\"1\" class=\"dataframe\">\n",
       "  <thead>\n",
       "    <tr style=\"text-align: right;\">\n",
       "      <th></th>\n",
       "      <th>Unnamed: 0.1</th>\n",
       "      <th>Unnamed: 0</th>\n",
       "      <th>Body</th>\n",
       "      <th>Label</th>\n",
       "    </tr>\n",
       "  </thead>\n",
       "  <tbody>\n",
       "    <tr>\n",
       "      <th>0</th>\n",
       "      <td>2469</td>\n",
       "      <td>2469</td>\n",
       "      <td>Subject: stock promo mover : cwtd\\n * * * urge...</td>\n",
       "      <td>1</td>\n",
       "    </tr>\n",
       "    <tr>\n",
       "      <th>1</th>\n",
       "      <td>5063</td>\n",
       "      <td>5063</td>\n",
       "      <td>Subject: are you listed in major search engine...</td>\n",
       "      <td>1</td>\n",
       "    </tr>\n",
       "    <tr>\n",
       "      <th>2</th>\n",
       "      <td>12564</td>\n",
       "      <td>12564</td>\n",
       "      <td>Subject: important information thu , 30 jun 20...</td>\n",
       "      <td>1</td>\n",
       "    </tr>\n",
       "    <tr>\n",
       "      <th>3</th>\n",
       "      <td>2796</td>\n",
       "      <td>2796</td>\n",
       "      <td>Subject: = ? utf - 8 ? q ? bask your life with...</td>\n",
       "      <td>1</td>\n",
       "    </tr>\n",
       "    <tr>\n",
       "      <th>4</th>\n",
       "      <td>1468</td>\n",
       "      <td>1468</td>\n",
       "      <td>Subject: \" bidstogo \" is places to go , things...</td>\n",
       "      <td>1</td>\n",
       "    </tr>\n",
       "  </tbody>\n",
       "</table>\n",
       "</div>"
      ],
      "text/plain": [
       "   Unnamed: 0.1  Unnamed: 0  \\\n",
       "0          2469        2469   \n",
       "1          5063        5063   \n",
       "2         12564       12564   \n",
       "3          2796        2796   \n",
       "4          1468        1468   \n",
       "\n",
       "                                                Body  Label  \n",
       "0  Subject: stock promo mover : cwtd\\n * * * urge...      1  \n",
       "1  Subject: are you listed in major search engine...      1  \n",
       "2  Subject: important information thu , 30 jun 20...      1  \n",
       "3  Subject: = ? utf - 8 ? q ? bask your life with...      1  \n",
       "4  Subject: \" bidstogo \" is places to go , things...      1  "
      ]
     },
     "execution_count": 4,
     "metadata": {},
     "output_type": "execute_result"
    }
   ],
   "source": [
    "data2.head()"
   ]
  },
  {
   "cell_type": "code",
   "execution_count": 5,
   "id": "28cb07da-bdb1-4ecf-a713-d334f718605f",
   "metadata": {},
   "outputs": [
    {
     "data": {
      "text/html": [
       "<div>\n",
       "<style scoped>\n",
       "    .dataframe tbody tr th:only-of-type {\n",
       "        vertical-align: middle;\n",
       "    }\n",
       "\n",
       "    .dataframe tbody tr th {\n",
       "        vertical-align: top;\n",
       "    }\n",
       "\n",
       "    .dataframe thead th {\n",
       "        text-align: right;\n",
       "    }\n",
       "</style>\n",
       "<table border=\"1\" class=\"dataframe\">\n",
       "  <thead>\n",
       "    <tr style=\"text-align: right;\">\n",
       "      <th></th>\n",
       "      <th>Unnamed: 0</th>\n",
       "      <th>Body</th>\n",
       "      <th>Label</th>\n",
       "    </tr>\n",
       "  </thead>\n",
       "  <tbody>\n",
       "    <tr>\n",
       "      <th>0</th>\n",
       "      <td>0</td>\n",
       "      <td>Subject: great part-time or summer job !\\n \\n ...</td>\n",
       "      <td>1</td>\n",
       "    </tr>\n",
       "    <tr>\n",
       "      <th>1</th>\n",
       "      <td>1</td>\n",
       "      <td>Subject: auto insurance rates too high ?\\n \\n ...</td>\n",
       "      <td>1</td>\n",
       "    </tr>\n",
       "    <tr>\n",
       "      <th>2</th>\n",
       "      <td>2</td>\n",
       "      <td>Subject: do want the best and economical hunti...</td>\n",
       "      <td>1</td>\n",
       "    </tr>\n",
       "    <tr>\n",
       "      <th>3</th>\n",
       "      <td>3</td>\n",
       "      <td>Subject: email 57 million people for $ 99\\n \\n...</td>\n",
       "      <td>1</td>\n",
       "    </tr>\n",
       "    <tr>\n",
       "      <th>4</th>\n",
       "      <td>4</td>\n",
       "      <td>Subject: do n't miss these !\\n \\n attention ! ...</td>\n",
       "      <td>1</td>\n",
       "    </tr>\n",
       "  </tbody>\n",
       "</table>\n",
       "</div>"
      ],
      "text/plain": [
       "   Unnamed: 0                                               Body  Label\n",
       "0           0  Subject: great part-time or summer job !\\n \\n ...      1\n",
       "1           1  Subject: auto insurance rates too high ?\\n \\n ...      1\n",
       "2           2  Subject: do want the best and economical hunti...      1\n",
       "3           3  Subject: email 57 million people for $ 99\\n \\n...      1\n",
       "4           4  Subject: do n't miss these !\\n \\n attention ! ...      1"
      ]
     },
     "execution_count": 5,
     "metadata": {},
     "output_type": "execute_result"
    }
   ],
   "source": [
    "data3.head()"
   ]
  },
  {
   "cell_type": "markdown",
   "id": "1bdeab44-cb34-4f79-b235-af0f2e76f77d",
   "metadata": {},
   "source": [
    "In these datasets spam's label is 1 otherwise 0"
   ]
  },
  {
   "cell_type": "code",
   "execution_count": 6,
   "id": "1859429f-d8af-494f-a74f-8c6c9f958673",
   "metadata": {},
   "outputs": [
    {
     "data": {
      "text/html": [
       "<div>\n",
       "<style scoped>\n",
       "    .dataframe tbody tr th:only-of-type {\n",
       "        vertical-align: middle;\n",
       "    }\n",
       "\n",
       "    .dataframe tbody tr th {\n",
       "        vertical-align: top;\n",
       "    }\n",
       "\n",
       "    .dataframe thead th {\n",
       "        text-align: right;\n",
       "    }\n",
       "</style>\n",
       "<table border=\"1\" class=\"dataframe\">\n",
       "  <thead>\n",
       "    <tr style=\"text-align: right;\">\n",
       "      <th></th>\n",
       "      <th>Body</th>\n",
       "      <th>Label</th>\n",
       "    </tr>\n",
       "  </thead>\n",
       "  <tbody>\n",
       "    <tr>\n",
       "      <th>0</th>\n",
       "      <td>Subject: stock promo mover : cwtd\\n * * * urge...</td>\n",
       "      <td>1</td>\n",
       "    </tr>\n",
       "    <tr>\n",
       "      <th>1</th>\n",
       "      <td>Subject: are you listed in major search engine...</td>\n",
       "      <td>1</td>\n",
       "    </tr>\n",
       "    <tr>\n",
       "      <th>2</th>\n",
       "      <td>Subject: important information thu , 30 jun 20...</td>\n",
       "      <td>1</td>\n",
       "    </tr>\n",
       "    <tr>\n",
       "      <th>3</th>\n",
       "      <td>Subject: = ? utf - 8 ? q ? bask your life with...</td>\n",
       "      <td>1</td>\n",
       "    </tr>\n",
       "    <tr>\n",
       "      <th>4</th>\n",
       "      <td>Subject: \" bidstogo \" is places to go , things...</td>\n",
       "      <td>1</td>\n",
       "    </tr>\n",
       "  </tbody>\n",
       "</table>\n",
       "</div>"
      ],
      "text/plain": [
       "                                                Body  Label\n",
       "0  Subject: stock promo mover : cwtd\\n * * * urge...      1\n",
       "1  Subject: are you listed in major search engine...      1\n",
       "2  Subject: important information thu , 30 jun 20...      1\n",
       "3  Subject: = ? utf - 8 ? q ? bask your life with...      1\n",
       "4  Subject: \" bidstogo \" is places to go , things...      1"
      ]
     },
     "execution_count": 6,
     "metadata": {},
     "output_type": "execute_result"
    }
   ],
   "source": [
    "data1.drop(\"Unnamed: 0\",inplace=True,axis=1)\n",
    "data2.drop([\"Unnamed: 0\",\"Unnamed: 0.1\"],inplace=True,axis=1)\n",
    "data3.drop(\"Unnamed: 0\",inplace=True,axis=1)\n",
    "\n",
    "data2.head()"
   ]
  },
  {
   "cell_type": "markdown",
   "id": "e277d998-646c-4526-9ecb-7d15159c2e90",
   "metadata": {},
   "source": [
    "* Now we can concatenate them."
   ]
  },
  {
   "cell_type": "code",
   "execution_count": 7,
   "id": "c4dccf63-d605-42fc-b513-90faebc2b758",
   "metadata": {},
   "outputs": [
    {
     "data": {
      "text/html": [
       "<div>\n",
       "<style scoped>\n",
       "    .dataframe tbody tr th:only-of-type {\n",
       "        vertical-align: middle;\n",
       "    }\n",
       "\n",
       "    .dataframe tbody tr th {\n",
       "        vertical-align: top;\n",
       "    }\n",
       "\n",
       "    .dataframe thead th {\n",
       "        text-align: right;\n",
       "    }\n",
       "</style>\n",
       "<table border=\"1\" class=\"dataframe\">\n",
       "  <thead>\n",
       "    <tr style=\"text-align: right;\">\n",
       "      <th></th>\n",
       "      <th>Body</th>\n",
       "      <th>Label</th>\n",
       "    </tr>\n",
       "  </thead>\n",
       "  <tbody>\n",
       "    <tr>\n",
       "      <th>0</th>\n",
       "      <td>\\nSave up to 70% on Life Insurance.\\nWhy Spend...</td>\n",
       "      <td>1</td>\n",
       "    </tr>\n",
       "    <tr>\n",
       "      <th>1</th>\n",
       "      <td>1) Fight The Risk of Cancer!\\nhttp://www.adcli...</td>\n",
       "      <td>1</td>\n",
       "    </tr>\n",
       "    <tr>\n",
       "      <th>2</th>\n",
       "      <td>1) Fight The Risk of Cancer!\\nhttp://www.adcli...</td>\n",
       "      <td>1</td>\n",
       "    </tr>\n",
       "    <tr>\n",
       "      <th>3</th>\n",
       "      <td>##############################################...</td>\n",
       "      <td>1</td>\n",
       "    </tr>\n",
       "    <tr>\n",
       "      <th>4</th>\n",
       "      <td>I thought you might like these:\\n1) Slim Down ...</td>\n",
       "      <td>1</td>\n",
       "    </tr>\n",
       "  </tbody>\n",
       "</table>\n",
       "</div>"
      ],
      "text/plain": [
       "                                                Body  Label\n",
       "0  \\nSave up to 70% on Life Insurance.\\nWhy Spend...      1\n",
       "1  1) Fight The Risk of Cancer!\\nhttp://www.adcli...      1\n",
       "2  1) Fight The Risk of Cancer!\\nhttp://www.adcli...      1\n",
       "3  ##############################################...      1\n",
       "4  I thought you might like these:\\n1) Slim Down ...      1"
      ]
     },
     "execution_count": 7,
     "metadata": {},
     "output_type": "execute_result"
    }
   ],
   "source": [
    "data = pd.concat([data1,data2,data3],axis=0)\n",
    "data.head()"
   ]
  },
  {
   "cell_type": "code",
   "execution_count": 8,
   "id": "f29e1085-fba4-4cb5-a0ba-1160e11f2720",
   "metadata": {},
   "outputs": [
    {
     "name": "stdout",
     "output_type": "stream",
     "text": [
      "<class 'pandas.core.frame.DataFrame'>\n",
      "Index: 18651 entries, 0 to 2604\n",
      "Data columns (total 2 columns):\n",
      " #   Column  Non-Null Count  Dtype \n",
      "---  ------  --------------  ----- \n",
      " 0   Body    18650 non-null  object\n",
      " 1   Label   18651 non-null  int64 \n",
      "dtypes: int64(1), object(1)\n",
      "memory usage: 437.1+ KB\n"
     ]
    }
   ],
   "source": [
    "data.info()"
   ]
  },
  {
   "cell_type": "markdown",
   "id": "f89da7a3-c17e-4adf-9ca3-9c41ba6f355b",
   "metadata": {},
   "source": [
    "* There is a missing value in the body texts, we should remove it."
   ]
  },
  {
   "cell_type": "code",
   "execution_count": 9,
   "id": "85a34a71-ae55-4236-9f65-cefbfa65ad50",
   "metadata": {},
   "outputs": [
    {
     "name": "stdout",
     "output_type": "stream",
     "text": [
      "<class 'pandas.core.frame.DataFrame'>\n",
      "Index: 18650 entries, 0 to 2604\n",
      "Data columns (total 2 columns):\n",
      " #   Column  Non-Null Count  Dtype \n",
      "---  ------  --------------  ----- \n",
      " 0   Body    18650 non-null  object\n",
      " 1   Label   18650 non-null  int64 \n",
      "dtypes: int64(1), object(1)\n",
      "memory usage: 437.1+ KB\n"
     ]
    }
   ],
   "source": [
    "data.dropna(inplace=True)\n",
    "data.info()"
   ]
  },
  {
   "cell_type": "markdown",
   "id": "e83846a4-e16f-4f57-90b9-cae4aa5176a0",
   "metadata": {},
   "source": [
    "# Cleaning and Preparing Text\n",
    "\n",
    "Now we can clean and prepare the text in order to use in Naive Bayes. We will follow these stpes:\n",
    "\n",
    "* Cleaning links\n",
    "* Cleaning digits except alphabetical and numerical characters.\n",
    "* Lowering\n",
    "* Tokenizing\n",
    "* Lemmatizing and Removing Stopwords\n",
    "* Bag of Words"
   ]
  },
  {
   "cell_type": "markdown",
   "id": "fae44f84-5466-4c0c-b701-ac8e5e53861e",
   "metadata": {},
   "source": [
    "## Cleaning Links\n",
    "\n",
    "In order to clean links we can use regex (regular expressions)"
   ]
  },
  {
   "cell_type": "code",
   "execution_count": 13,
   "id": "f6e2dfc3-afe6-4208-a94f-f38ffd0a0185",
   "metadata": {},
   "outputs": [
    {
     "name": "stdout",
     "output_type": "stream",
     "text": [
      "\n",
      "Save up to 70% on Life Insurance.\n",
      "Why Spend More Than You Have To?Life Quote Savings\n",
      "Ensuring your \n",
      "      family's financial security is very important. Life Quote Savings makes \n",
      "      buying life insurance simple and affordable. We Provide FREE Access to The \n",
      "      Very Best Companies and The Lowest Rates.Life Quote Savings is FAST, EASY and \n",
      "            SAVES you money! Let us help you get started with the best values in \n",
      "            the country on new coverage. You can SAVE hundreds or even thousands \n",
      "            of dollars by requesting a FREE quote from Lifequote Savings. Our \n",
      "            service will take you less than 5 minutes to complete. Shop and \n",
      "            compare. SAVE up to 70% on all types of Life insurance! Click Here For Your \n",
      "            Free Quote!Protecting your family is the best investment you'll ever \n",
      "          make!\n",
      "If you are in receipt of this email \n",
      "      in error and/or wish to be removed from our list, PLEASE CLICK HERE AND TYPE REMOVE. If you \n",
      "      reside in any state which prohibits e-mail solicitations for insurance, \n",
      "      please disregard this \n",
      "      email.\n",
      "\n"
     ]
    }
   ],
   "source": [
    "x = data[\"Body\"]\n",
    "x_clnd_link = [re.sub(r\"http\\S+\", \"\", text) for text in x]\n",
    "\n",
    "print(x_clnd_link[0])"
   ]
  },
  {
   "cell_type": "markdown",
   "id": "d9ec75e0-b811-4e81-9b66-67febe46a887",
   "metadata": {},
   "source": [
    "## Cleaning Digits Except Alphabetical and Numerical Characters\n",
    "As we can see from the text above, there are a lot of digits such as <span style=\"font-weight:bold; font-size:14px;\">* and : </span> They don't have a meaning, so we should remove them from the texts.\n",
    "\n",
    "In order to clean unrelevant digits we'll use regex again."
   ]
  },
  {
   "cell_type": "code",
   "execution_count": 16,
   "id": "faeb8982-a529-43ac-a671-cd5f8373f856",
   "metadata": {},
   "outputs": [],
   "source": [
    "pattern = \"[^a-zA-Z0-9]\"\n",
    "# This means replace all the chars that follow the pattern \n",
    "x_cleaned = [re.sub(pattern,\" \",text) for text in x_clnd_link]"
   ]
  },
  {
   "cell_type": "code",
   "execution_count": 18,
   "id": "f7a6c645-a40d-4dbf-9995-f6268afb8192",
   "metadata": {},
   "outputs": [
    {
     "name": "stdout",
     "output_type": "stream",
     "text": [
      " save up to 70  on life insurance  why spend more than you have to life quote savings ensuring your        family s financial security is very important  life quote savings makes        buying life insurance simple and affordable  we provide free access to the        very best companies and the lowest rates life quote savings is fast  easy and              saves you money  let us help you get started with the best values in              the country on new coverage  you can save hundreds or even thousands              of dollars by requesting a free quote from lifequote savings  our              service will take you less than 5 minutes to complete  shop and              compare  save up to 70  on all types of life insurance  click here for your              free quote protecting your family is the best investment you ll ever            make  if you are in receipt of this email        in error and or wish to be removed from our list  please click here and type remove  if you        reside in any state which prohibits e mail solicitations for insurance         please disregard this        email  \n"
     ]
    }
   ],
   "source": [
    "#Lowering the texts\n",
    "x_lowered = [text.lower() for text in x_cleaned]\n",
    "print(x_lowered[0])"
   ]
  },
  {
   "cell_type": "markdown",
   "id": "bccdfb06-5b91-4c97-aea6-251fca73b58a",
   "metadata": {},
   "source": [
    "## Tokenizing \n",
    "In order to create a feature that shows whether the text includes the word or not, we need to split words into lists, we can do this using **pythonString.split()** but there is a better function to do this in NLTK. "
   ]
  },
  {
   "cell_type": "code",
   "execution_count": 19,
   "id": "cf052404-e6d2-42c6-9b45-7436671ef2c8",
   "metadata": {},
   "outputs": [],
   "source": [
    "x_tokenized = [nltk.word_tokenize(text) for text in x_lowered]\n"
   ]
  },
  {
   "cell_type": "code",
   "execution_count": 20,
   "id": "4c8f511d-d206-4ce8-bef5-5a5a87343f77",
   "metadata": {},
   "outputs": [
    {
     "name": "stdout",
     "output_type": "stream",
     "text": [
      "['save', 'up', 'to', '70', 'on', 'life', 'insurance', 'why', 'spend', 'more', 'than', 'you', 'have', 'to', 'life', 'quote', 'savings', 'ensuring', 'your', 'family', 's', 'financial', 'security', 'is', 'very', 'important', 'life', 'quote', 'savings', 'makes', 'buying', 'life', 'insurance', 'simple', 'and', 'affordable', 'we', 'provide', 'free', 'access', 'to', 'the', 'very', 'best', 'companies', 'and', 'the', 'lowest', 'rates', 'life', 'quote', 'savings', 'is', 'fast', 'easy', 'and', 'saves', 'you', 'money', 'let', 'us', 'help', 'you', 'get', 'started', 'with', 'the', 'best', 'values', 'in', 'the', 'country', 'on', 'new', 'coverage', 'you', 'can', 'save', 'hundreds', 'or', 'even', 'thousands', 'of', 'dollars', 'by', 'requesting', 'a', 'free', 'quote', 'from', 'lifequote', 'savings', 'our', 'service', 'will', 'take', 'you', 'less', 'than', '5', 'minutes', 'to', 'complete', 'shop', 'and', 'compare', 'save', 'up', 'to', '70', 'on', 'all', 'types', 'of', 'life', 'insurance', 'click', 'here', 'for', 'your', 'free', 'quote', 'protecting', 'your', 'family', 'is', 'the', 'best', 'investment', 'you', 'll', 'ever', 'make', 'if', 'you', 'are', 'in', 'receipt', 'of', 'this', 'email', 'in', 'error', 'and', 'or', 'wish', 'to', 'be', 'removed', 'from', 'our', 'list', 'please', 'click', 'here', 'and', 'type', 'remove', 'if', 'you', 'reside', 'in', 'any', 'state', 'which', 'prohibits', 'e', 'mail', 'solicitations', 'for', 'insurance', 'please', 'disregard', 'this', 'email']\n"
     ]
    }
   ],
   "source": [
    "print(x_tokenized[0])"
   ]
  },
  {
   "cell_type": "markdown",
   "id": "5b1aa294-ff3f-475e-9f78-fb723f62df4c",
   "metadata": {},
   "source": [
    "* Each sentence turned into a list that contains words."
   ]
  },
  {
   "cell_type": "markdown",
   "id": "86e0b656-9130-4f85-bcb5-2a9df8dc50ae",
   "metadata": {},
   "source": [
    "## Lemmatizing and Removing Stopwords\n",
    "In natural languages, words can get additional so each word can have a lot of versions, sometimes these additionals may give tips to us but in filtering spams, we don't need them\n",
    "\n",
    "There are two ways to remove additionals: **Stemmers and Lemmatizers**\n",
    "\n",
    "### Stemmers\n",
    "Stemmers are rule based weak tools, they remove additionals using rules but in natural languages everything does not follow the rules. Also It cant change tenses, for instance lemmatizers convert **learnt** into learn, stemmers don't touch them. Although stemmers are weak they are fast and although so many natural language do not have lemmatizers most of them have stemmers.\n",
    "\n",
    "### Lemmatizers\n",
    "Lemmatizers uses dictionaries to remove additionals and change tenses. They work good but developing a lemmatizer is hard and needs a lot of resource, so they are rare. Also lemmatizers use dictionaries, and that causes lemmatizers being slow.\n",
    "\n",
    "In this kernel we'll use NLTK's WordNet Lemmatizer. WordNet is a big dictionary.\n"
   ]
  },
  {
   "cell_type": "code",
   "execution_count": 22,
   "id": "7baff8b4-745b-42f2-a547-d664203019d3",
   "metadata": {},
   "outputs": [
    {
     "name": "stderr",
     "output_type": "stream",
     "text": [
      "[nltk_data] Downloading package wordnet to\n",
      "[nltk_data]     /Users/prabeshregmi/nltk_data...\n",
      "[nltk_data]   Package wordnet is already up-to-date!\n"
     ]
    }
   ],
   "source": [
    "nltk.download('wordnet')\n",
    "from nltk.stem import WordNetLemmatizer\n",
    "lemma = WordNetLemmatizer()"
   ]
  },
  {
   "cell_type": "code",
   "execution_count": 25,
   "id": "dfc05849-7a8b-42f9-bcc8-4a2fd66eeaaf",
   "metadata": {},
   "outputs": [
    {
     "name": "stdout",
     "output_type": "stream",
     "text": [
      "rat changed cheer better stopped ate triggered carpenter beer "
     ]
    }
   ],
   "source": [
    "words = [\"rats\",\"changed\",\"cheers\",\"better\",\"stopped\",\"ate\",\"triggered\",\"carpenter\",\"beers\"]\n",
    "for word in words:\n",
    "    print(lemma.lemmatize(word),end=\" \")"
   ]
  },
  {
   "cell_type": "markdown",
   "id": "03211585-3520-4592-9b77-0ab72d5c9c02",
   "metadata": {},
   "source": [
    "* Now we can lemmatize our texts."
   ]
  },
  {
   "cell_type": "code",
   "execution_count": 26,
   "id": "8283f242-e8fb-40f5-89a9-65a8e4763378",
   "metadata": {},
   "outputs": [],
   "source": [
    "x_lemmatized = [[lemma.lemmatize(word) for word in text] for text in x_tokenized]\n"
   ]
  },
  {
   "cell_type": "code",
   "execution_count": 28,
   "id": "0c765258-793a-42e1-98b4-ddafbd6c407c",
   "metadata": {},
   "outputs": [
    {
     "name": "stdout",
     "output_type": "stream",
     "text": [
      "['save', 'up', 'to', '70', 'on', 'life', 'insurance', 'why', 'spend', 'more', 'than', 'you', 'have', 'to', 'life', 'quote', 'saving', 'ensuring', 'your', 'family', 's', 'financial', 'security', 'is', 'very', 'important', 'life', 'quote', 'saving', 'make', 'buying', 'life', 'insurance', 'simple', 'and', 'affordable', 'we', 'provide', 'free', 'access', 'to', 'the', 'very', 'best', 'company', 'and', 'the', 'lowest', 'rate', 'life', 'quote', 'saving', 'is', 'fast', 'easy', 'and', 'save', 'you', 'money', 'let', 'u', 'help', 'you', 'get', 'started', 'with', 'the', 'best', 'value', 'in', 'the', 'country', 'on', 'new', 'coverage', 'you', 'can', 'save', 'hundred', 'or', 'even', 'thousand', 'of', 'dollar', 'by', 'requesting', 'a', 'free', 'quote', 'from', 'lifequote', 'saving', 'our', 'service', 'will', 'take', 'you', 'less', 'than', '5', 'minute', 'to', 'complete', 'shop', 'and', 'compare', 'save', 'up', 'to', '70', 'on', 'all', 'type', 'of', 'life', 'insurance', 'click', 'here', 'for', 'your', 'free', 'quote', 'protecting', 'your', 'family', 'is', 'the', 'best', 'investment', 'you', 'll', 'ever', 'make', 'if', 'you', 'are', 'in', 'receipt', 'of', 'this', 'email', 'in', 'error', 'and', 'or', 'wish', 'to', 'be', 'removed', 'from', 'our', 'list', 'please', 'click', 'here', 'and', 'type', 'remove', 'if', 'you', 'reside', 'in', 'any', 'state', 'which', 'prohibits', 'e', 'mail', 'solicitation', 'for', 'insurance', 'please', 'disregard', 'this', 'email']\n"
     ]
    }
   ],
   "source": [
    "print(x_lemmatized[0])"
   ]
  },
  {
   "cell_type": "markdown",
   "id": "79b3fc85-c205-4308-8dd7-ea37ddb097db",
   "metadata": {},
   "source": [
    "### Removing Stopwords\n",
    "In natural languages there are words that not have a special meaning such as **will**, it is always a tense and such as **and,or**\n",
    "\n",
    "In order to win from time and improve the model we should remove them. There are several ways to remove them but in this kernel we'll use stopwords corpora of NLTK. There are stopwords of 11 natural language in there."
   ]
  },
  {
   "cell_type": "code",
   "execution_count": 29,
   "id": "25577fbb-a9ff-4c39-99ea-fbff1f4f034c",
   "metadata": {},
   "outputs": [],
   "source": [
    "stopwords = nltk.corpus.stopwords.words(\"english\")\n",
    "x_prepared = [[word for word in text if word not in stopwords] for text in x_lemmatized]"
   ]
  },
  {
   "cell_type": "code",
   "execution_count": 30,
   "id": "cece7d18-d9fe-40fd-a224-c6335326d9b4",
   "metadata": {},
   "outputs": [
    {
     "name": "stdout",
     "output_type": "stream",
     "text": [
      "['save', '70', 'life', 'insurance', 'spend', 'life', 'quote', 'saving', 'ensuring', 'family', 'financial', 'security', 'important', 'life', 'quote', 'saving', 'make', 'buying', 'life', 'insurance', 'simple', 'affordable', 'provide', 'free', 'access', 'best', 'company', 'lowest', 'rate', 'life', 'quote', 'saving', 'fast', 'easy', 'save', 'money', 'let', 'u', 'help', 'get', 'started', 'best', 'value', 'country', 'new', 'coverage', 'save', 'hundred', 'even', 'thousand', 'dollar', 'requesting', 'free', 'quote', 'lifequote', 'saving', 'service', 'take', 'less', '5', 'minute', 'complete', 'shop', 'compare', 'save', '70', 'type', 'life', 'insurance', 'click', 'free', 'quote', 'protecting', 'family', 'best', 'investment', 'ever', 'make', 'receipt', 'email', 'error', 'wish', 'removed', 'list', 'please', 'click', 'type', 'remove', 'reside', 'state', 'prohibits', 'e', 'mail', 'solicitation', 'insurance', 'please', 'disregard', 'email']\n"
     ]
    }
   ],
   "source": [
    "print(x_prepared[0])"
   ]
  },
  {
   "cell_type": "code",
   "execution_count": 31,
   "id": "ec9ec83e-d0c0-4a21-8975-2608a1bd2c32",
   "metadata": {},
   "outputs": [
    {
     "data": {
      "text/plain": [
       "144989"
      ]
     },
     "execution_count": 31,
     "metadata": {},
     "output_type": "execute_result"
    }
   ],
   "source": [
    "# Test how many unique word are there in our dataset\n",
    "len(np.unique([word for text in x_prepared for word in text]))\n"
   ]
  },
  {
   "cell_type": "markdown",
   "id": "99c173f1-a4db-46cd-a6ce-8043a219fe64",
   "metadata": {},
   "source": [
    "## Bag of Words\n",
    "And we came to the final process of this section: Bag of Words. Bag of Words is an easy approach to make sense of texts.\n",
    "\n",
    "In bag of words approach, each feature shows whether the text contains the word or not."
   ]
  },
  {
   "cell_type": "code",
   "execution_count": 32,
   "id": "07641e49-de52-4828-ae46-27c2ef7e620b",
   "metadata": {},
   "outputs": [],
   "source": [
    "vectorizer = CountVectorizer(max_features=20000)\n",
    "x = vectorizer.fit_transform([\" \".join(text) for text in x_prepared]).toarray()\n"
   ]
  },
  {
   "cell_type": "code",
   "execution_count": 33,
   "id": "fa37c1a4-b6ee-49a8-9f4c-522f3e5a1585",
   "metadata": {},
   "outputs": [
    {
     "data": {
      "text/plain": [
       "(18650, 20000)"
      ]
     },
     "execution_count": 33,
     "metadata": {},
     "output_type": "execute_result"
    }
   ],
   "source": [
    "x.shape"
   ]
  },
  {
   "cell_type": "code",
   "execution_count": 34,
   "id": "9284856b-d0d2-44ae-ae27-e0a60b9682f2",
   "metadata": {},
   "outputs": [
    {
     "data": {
      "text/plain": [
       "(14920, 20000)"
      ]
     },
     "execution_count": 34,
     "metadata": {},
     "output_type": "execute_result"
    }
   ],
   "source": [
    "x_train,x_test,y_train,y_test = train_test_split(x,np.asarray(data[\"Label\"]),random_state=42,test_size=0.2)\n",
    "x_train.shape"
   ]
  },
  {
   "cell_type": "markdown",
   "id": "7a2339f2-65c0-4d66-a8ba-02213842333a",
   "metadata": {},
   "source": [
    "# Naive Bayes Model\n",
    "In this section we'll fit naive bayes model and prepare our spam filter."
   ]
  },
  {
   "cell_type": "code",
   "execution_count": 38,
   "id": "bfd6a65c-a2de-459d-8820-a24e9ce7d55f",
   "metadata": {},
   "outputs": [
    {
     "data": {
      "text/html": [
       "<style>#sk-container-id-2 {\n",
       "  /* Definition of color scheme common for light and dark mode */\n",
       "  --sklearn-color-text: black;\n",
       "  --sklearn-color-line: gray;\n",
       "  /* Definition of color scheme for unfitted estimators */\n",
       "  --sklearn-color-unfitted-level-0: #fff5e6;\n",
       "  --sklearn-color-unfitted-level-1: #f6e4d2;\n",
       "  --sklearn-color-unfitted-level-2: #ffe0b3;\n",
       "  --sklearn-color-unfitted-level-3: chocolate;\n",
       "  /* Definition of color scheme for fitted estimators */\n",
       "  --sklearn-color-fitted-level-0: #f0f8ff;\n",
       "  --sklearn-color-fitted-level-1: #d4ebff;\n",
       "  --sklearn-color-fitted-level-2: #b3dbfd;\n",
       "  --sklearn-color-fitted-level-3: cornflowerblue;\n",
       "\n",
       "  /* Specific color for light theme */\n",
       "  --sklearn-color-text-on-default-background: var(--sg-text-color, var(--theme-code-foreground, var(--jp-content-font-color1, black)));\n",
       "  --sklearn-color-background: var(--sg-background-color, var(--theme-background, var(--jp-layout-color0, white)));\n",
       "  --sklearn-color-border-box: var(--sg-text-color, var(--theme-code-foreground, var(--jp-content-font-color1, black)));\n",
       "  --sklearn-color-icon: #696969;\n",
       "\n",
       "  @media (prefers-color-scheme: dark) {\n",
       "    /* Redefinition of color scheme for dark theme */\n",
       "    --sklearn-color-text-on-default-background: var(--sg-text-color, var(--theme-code-foreground, var(--jp-content-font-color1, white)));\n",
       "    --sklearn-color-background: var(--sg-background-color, var(--theme-background, var(--jp-layout-color0, #111)));\n",
       "    --sklearn-color-border-box: var(--sg-text-color, var(--theme-code-foreground, var(--jp-content-font-color1, white)));\n",
       "    --sklearn-color-icon: #878787;\n",
       "  }\n",
       "}\n",
       "\n",
       "#sk-container-id-2 {\n",
       "  color: var(--sklearn-color-text);\n",
       "}\n",
       "\n",
       "#sk-container-id-2 pre {\n",
       "  padding: 0;\n",
       "}\n",
       "\n",
       "#sk-container-id-2 input.sk-hidden--visually {\n",
       "  border: 0;\n",
       "  clip: rect(1px 1px 1px 1px);\n",
       "  clip: rect(1px, 1px, 1px, 1px);\n",
       "  height: 1px;\n",
       "  margin: -1px;\n",
       "  overflow: hidden;\n",
       "  padding: 0;\n",
       "  position: absolute;\n",
       "  width: 1px;\n",
       "}\n",
       "\n",
       "#sk-container-id-2 div.sk-dashed-wrapped {\n",
       "  border: 1px dashed var(--sklearn-color-line);\n",
       "  margin: 0 0.4em 0.5em 0.4em;\n",
       "  box-sizing: border-box;\n",
       "  padding-bottom: 0.4em;\n",
       "  background-color: var(--sklearn-color-background);\n",
       "}\n",
       "\n",
       "#sk-container-id-2 div.sk-container {\n",
       "  /* jupyter's `normalize.less` sets `[hidden] { display: none; }`\n",
       "     but bootstrap.min.css set `[hidden] { display: none !important; }`\n",
       "     so we also need the `!important` here to be able to override the\n",
       "     default hidden behavior on the sphinx rendered scikit-learn.org.\n",
       "     See: https://github.com/scikit-learn/scikit-learn/issues/21755 */\n",
       "  display: inline-block !important;\n",
       "  position: relative;\n",
       "}\n",
       "\n",
       "#sk-container-id-2 div.sk-text-repr-fallback {\n",
       "  display: none;\n",
       "}\n",
       "\n",
       "div.sk-parallel-item,\n",
       "div.sk-serial,\n",
       "div.sk-item {\n",
       "  /* draw centered vertical line to link estimators */\n",
       "  background-image: linear-gradient(var(--sklearn-color-text-on-default-background), var(--sklearn-color-text-on-default-background));\n",
       "  background-size: 2px 100%;\n",
       "  background-repeat: no-repeat;\n",
       "  background-position: center center;\n",
       "}\n",
       "\n",
       "/* Parallel-specific style estimator block */\n",
       "\n",
       "#sk-container-id-2 div.sk-parallel-item::after {\n",
       "  content: \"\";\n",
       "  width: 100%;\n",
       "  border-bottom: 2px solid var(--sklearn-color-text-on-default-background);\n",
       "  flex-grow: 1;\n",
       "}\n",
       "\n",
       "#sk-container-id-2 div.sk-parallel {\n",
       "  display: flex;\n",
       "  align-items: stretch;\n",
       "  justify-content: center;\n",
       "  background-color: var(--sklearn-color-background);\n",
       "  position: relative;\n",
       "}\n",
       "\n",
       "#sk-container-id-2 div.sk-parallel-item {\n",
       "  display: flex;\n",
       "  flex-direction: column;\n",
       "}\n",
       "\n",
       "#sk-container-id-2 div.sk-parallel-item:first-child::after {\n",
       "  align-self: flex-end;\n",
       "  width: 50%;\n",
       "}\n",
       "\n",
       "#sk-container-id-2 div.sk-parallel-item:last-child::after {\n",
       "  align-self: flex-start;\n",
       "  width: 50%;\n",
       "}\n",
       "\n",
       "#sk-container-id-2 div.sk-parallel-item:only-child::after {\n",
       "  width: 0;\n",
       "}\n",
       "\n",
       "/* Serial-specific style estimator block */\n",
       "\n",
       "#sk-container-id-2 div.sk-serial {\n",
       "  display: flex;\n",
       "  flex-direction: column;\n",
       "  align-items: center;\n",
       "  background-color: var(--sklearn-color-background);\n",
       "  padding-right: 1em;\n",
       "  padding-left: 1em;\n",
       "}\n",
       "\n",
       "\n",
       "/* Toggleable style: style used for estimator/Pipeline/ColumnTransformer box that is\n",
       "clickable and can be expanded/collapsed.\n",
       "- Pipeline and ColumnTransformer use this feature and define the default style\n",
       "- Estimators will overwrite some part of the style using the `sk-estimator` class\n",
       "*/\n",
       "\n",
       "/* Pipeline and ColumnTransformer style (default) */\n",
       "\n",
       "#sk-container-id-2 div.sk-toggleable {\n",
       "  /* Default theme specific background. It is overwritten whether we have a\n",
       "  specific estimator or a Pipeline/ColumnTransformer */\n",
       "  background-color: var(--sklearn-color-background);\n",
       "}\n",
       "\n",
       "/* Toggleable label */\n",
       "#sk-container-id-2 label.sk-toggleable__label {\n",
       "  cursor: pointer;\n",
       "  display: block;\n",
       "  width: 100%;\n",
       "  margin-bottom: 0;\n",
       "  padding: 0.5em;\n",
       "  box-sizing: border-box;\n",
       "  text-align: center;\n",
       "}\n",
       "\n",
       "#sk-container-id-2 label.sk-toggleable__label-arrow:before {\n",
       "  /* Arrow on the left of the label */\n",
       "  content: \"▸\";\n",
       "  float: left;\n",
       "  margin-right: 0.25em;\n",
       "  color: var(--sklearn-color-icon);\n",
       "}\n",
       "\n",
       "#sk-container-id-2 label.sk-toggleable__label-arrow:hover:before {\n",
       "  color: var(--sklearn-color-text);\n",
       "}\n",
       "\n",
       "/* Toggleable content - dropdown */\n",
       "\n",
       "#sk-container-id-2 div.sk-toggleable__content {\n",
       "  max-height: 0;\n",
       "  max-width: 0;\n",
       "  overflow: hidden;\n",
       "  text-align: left;\n",
       "  /* unfitted */\n",
       "  background-color: var(--sklearn-color-unfitted-level-0);\n",
       "}\n",
       "\n",
       "#sk-container-id-2 div.sk-toggleable__content.fitted {\n",
       "  /* fitted */\n",
       "  background-color: var(--sklearn-color-fitted-level-0);\n",
       "}\n",
       "\n",
       "#sk-container-id-2 div.sk-toggleable__content pre {\n",
       "  margin: 0.2em;\n",
       "  border-radius: 0.25em;\n",
       "  color: var(--sklearn-color-text);\n",
       "  /* unfitted */\n",
       "  background-color: var(--sklearn-color-unfitted-level-0);\n",
       "}\n",
       "\n",
       "#sk-container-id-2 div.sk-toggleable__content.fitted pre {\n",
       "  /* unfitted */\n",
       "  background-color: var(--sklearn-color-fitted-level-0);\n",
       "}\n",
       "\n",
       "#sk-container-id-2 input.sk-toggleable__control:checked~div.sk-toggleable__content {\n",
       "  /* Expand drop-down */\n",
       "  max-height: 200px;\n",
       "  max-width: 100%;\n",
       "  overflow: auto;\n",
       "}\n",
       "\n",
       "#sk-container-id-2 input.sk-toggleable__control:checked~label.sk-toggleable__label-arrow:before {\n",
       "  content: \"▾\";\n",
       "}\n",
       "\n",
       "/* Pipeline/ColumnTransformer-specific style */\n",
       "\n",
       "#sk-container-id-2 div.sk-label input.sk-toggleable__control:checked~label.sk-toggleable__label {\n",
       "  color: var(--sklearn-color-text);\n",
       "  background-color: var(--sklearn-color-unfitted-level-2);\n",
       "}\n",
       "\n",
       "#sk-container-id-2 div.sk-label.fitted input.sk-toggleable__control:checked~label.sk-toggleable__label {\n",
       "  background-color: var(--sklearn-color-fitted-level-2);\n",
       "}\n",
       "\n",
       "/* Estimator-specific style */\n",
       "\n",
       "/* Colorize estimator box */\n",
       "#sk-container-id-2 div.sk-estimator input.sk-toggleable__control:checked~label.sk-toggleable__label {\n",
       "  /* unfitted */\n",
       "  background-color: var(--sklearn-color-unfitted-level-2);\n",
       "}\n",
       "\n",
       "#sk-container-id-2 div.sk-estimator.fitted input.sk-toggleable__control:checked~label.sk-toggleable__label {\n",
       "  /* fitted */\n",
       "  background-color: var(--sklearn-color-fitted-level-2);\n",
       "}\n",
       "\n",
       "#sk-container-id-2 div.sk-label label.sk-toggleable__label,\n",
       "#sk-container-id-2 div.sk-label label {\n",
       "  /* The background is the default theme color */\n",
       "  color: var(--sklearn-color-text-on-default-background);\n",
       "}\n",
       "\n",
       "/* On hover, darken the color of the background */\n",
       "#sk-container-id-2 div.sk-label:hover label.sk-toggleable__label {\n",
       "  color: var(--sklearn-color-text);\n",
       "  background-color: var(--sklearn-color-unfitted-level-2);\n",
       "}\n",
       "\n",
       "/* Label box, darken color on hover, fitted */\n",
       "#sk-container-id-2 div.sk-label.fitted:hover label.sk-toggleable__label.fitted {\n",
       "  color: var(--sklearn-color-text);\n",
       "  background-color: var(--sklearn-color-fitted-level-2);\n",
       "}\n",
       "\n",
       "/* Estimator label */\n",
       "\n",
       "#sk-container-id-2 div.sk-label label {\n",
       "  font-family: monospace;\n",
       "  font-weight: bold;\n",
       "  display: inline-block;\n",
       "  line-height: 1.2em;\n",
       "}\n",
       "\n",
       "#sk-container-id-2 div.sk-label-container {\n",
       "  text-align: center;\n",
       "}\n",
       "\n",
       "/* Estimator-specific */\n",
       "#sk-container-id-2 div.sk-estimator {\n",
       "  font-family: monospace;\n",
       "  border: 1px dotted var(--sklearn-color-border-box);\n",
       "  border-radius: 0.25em;\n",
       "  box-sizing: border-box;\n",
       "  margin-bottom: 0.5em;\n",
       "  /* unfitted */\n",
       "  background-color: var(--sklearn-color-unfitted-level-0);\n",
       "}\n",
       "\n",
       "#sk-container-id-2 div.sk-estimator.fitted {\n",
       "  /* fitted */\n",
       "  background-color: var(--sklearn-color-fitted-level-0);\n",
       "}\n",
       "\n",
       "/* on hover */\n",
       "#sk-container-id-2 div.sk-estimator:hover {\n",
       "  /* unfitted */\n",
       "  background-color: var(--sklearn-color-unfitted-level-2);\n",
       "}\n",
       "\n",
       "#sk-container-id-2 div.sk-estimator.fitted:hover {\n",
       "  /* fitted */\n",
       "  background-color: var(--sklearn-color-fitted-level-2);\n",
       "}\n",
       "\n",
       "/* Specification for estimator info (e.g. \"i\" and \"?\") */\n",
       "\n",
       "/* Common style for \"i\" and \"?\" */\n",
       "\n",
       ".sk-estimator-doc-link,\n",
       "a:link.sk-estimator-doc-link,\n",
       "a:visited.sk-estimator-doc-link {\n",
       "  float: right;\n",
       "  font-size: smaller;\n",
       "  line-height: 1em;\n",
       "  font-family: monospace;\n",
       "  background-color: var(--sklearn-color-background);\n",
       "  border-radius: 1em;\n",
       "  height: 1em;\n",
       "  width: 1em;\n",
       "  text-decoration: none !important;\n",
       "  margin-left: 1ex;\n",
       "  /* unfitted */\n",
       "  border: var(--sklearn-color-unfitted-level-1) 1pt solid;\n",
       "  color: var(--sklearn-color-unfitted-level-1);\n",
       "}\n",
       "\n",
       ".sk-estimator-doc-link.fitted,\n",
       "a:link.sk-estimator-doc-link.fitted,\n",
       "a:visited.sk-estimator-doc-link.fitted {\n",
       "  /* fitted */\n",
       "  border: var(--sklearn-color-fitted-level-1) 1pt solid;\n",
       "  color: var(--sklearn-color-fitted-level-1);\n",
       "}\n",
       "\n",
       "/* On hover */\n",
       "div.sk-estimator:hover .sk-estimator-doc-link:hover,\n",
       ".sk-estimator-doc-link:hover,\n",
       "div.sk-label-container:hover .sk-estimator-doc-link:hover,\n",
       ".sk-estimator-doc-link:hover {\n",
       "  /* unfitted */\n",
       "  background-color: var(--sklearn-color-unfitted-level-3);\n",
       "  color: var(--sklearn-color-background);\n",
       "  text-decoration: none;\n",
       "}\n",
       "\n",
       "div.sk-estimator.fitted:hover .sk-estimator-doc-link.fitted:hover,\n",
       ".sk-estimator-doc-link.fitted:hover,\n",
       "div.sk-label-container:hover .sk-estimator-doc-link.fitted:hover,\n",
       ".sk-estimator-doc-link.fitted:hover {\n",
       "  /* fitted */\n",
       "  background-color: var(--sklearn-color-fitted-level-3);\n",
       "  color: var(--sklearn-color-background);\n",
       "  text-decoration: none;\n",
       "}\n",
       "\n",
       "/* Span, style for the box shown on hovering the info icon */\n",
       ".sk-estimator-doc-link span {\n",
       "  display: none;\n",
       "  z-index: 9999;\n",
       "  position: relative;\n",
       "  font-weight: normal;\n",
       "  right: .2ex;\n",
       "  padding: .5ex;\n",
       "  margin: .5ex;\n",
       "  width: min-content;\n",
       "  min-width: 20ex;\n",
       "  max-width: 50ex;\n",
       "  color: var(--sklearn-color-text);\n",
       "  box-shadow: 2pt 2pt 4pt #999;\n",
       "  /* unfitted */\n",
       "  background: var(--sklearn-color-unfitted-level-0);\n",
       "  border: .5pt solid var(--sklearn-color-unfitted-level-3);\n",
       "}\n",
       "\n",
       ".sk-estimator-doc-link.fitted span {\n",
       "  /* fitted */\n",
       "  background: var(--sklearn-color-fitted-level-0);\n",
       "  border: var(--sklearn-color-fitted-level-3);\n",
       "}\n",
       "\n",
       ".sk-estimator-doc-link:hover span {\n",
       "  display: block;\n",
       "}\n",
       "\n",
       "/* \"?\"-specific style due to the `<a>` HTML tag */\n",
       "\n",
       "#sk-container-id-2 a.estimator_doc_link {\n",
       "  float: right;\n",
       "  font-size: 1rem;\n",
       "  line-height: 1em;\n",
       "  font-family: monospace;\n",
       "  background-color: var(--sklearn-color-background);\n",
       "  border-radius: 1rem;\n",
       "  height: 1rem;\n",
       "  width: 1rem;\n",
       "  text-decoration: none;\n",
       "  /* unfitted */\n",
       "  color: var(--sklearn-color-unfitted-level-1);\n",
       "  border: var(--sklearn-color-unfitted-level-1) 1pt solid;\n",
       "}\n",
       "\n",
       "#sk-container-id-2 a.estimator_doc_link.fitted {\n",
       "  /* fitted */\n",
       "  border: var(--sklearn-color-fitted-level-1) 1pt solid;\n",
       "  color: var(--sklearn-color-fitted-level-1);\n",
       "}\n",
       "\n",
       "/* On hover */\n",
       "#sk-container-id-2 a.estimator_doc_link:hover {\n",
       "  /* unfitted */\n",
       "  background-color: var(--sklearn-color-unfitted-level-3);\n",
       "  color: var(--sklearn-color-background);\n",
       "  text-decoration: none;\n",
       "}\n",
       "\n",
       "#sk-container-id-2 a.estimator_doc_link.fitted:hover {\n",
       "  /* fitted */\n",
       "  background-color: var(--sklearn-color-fitted-level-3);\n",
       "}\n",
       "</style><div id=\"sk-container-id-2\" class=\"sk-top-container\"><div class=\"sk-text-repr-fallback\"><pre>GaussianNB()</pre><b>In a Jupyter environment, please rerun this cell to show the HTML representation or trust the notebook. <br />On GitHub, the HTML representation is unable to render, please try loading this page with nbviewer.org.</b></div><div class=\"sk-container\" hidden><div class=\"sk-item\"><div class=\"sk-estimator fitted sk-toggleable\"><input class=\"sk-toggleable__control sk-hidden--visually\" id=\"sk-estimator-id-2\" type=\"checkbox\" checked><label for=\"sk-estimator-id-2\" class=\"sk-toggleable__label fitted sk-toggleable__label-arrow fitted\">&nbsp;&nbsp;GaussianNB<a class=\"sk-estimator-doc-link fitted\" rel=\"noreferrer\" target=\"_blank\" href=\"https://scikit-learn.org/1.5/modules/generated/sklearn.naive_bayes.GaussianNB.html\">?<span>Documentation for GaussianNB</span></a><span class=\"sk-estimator-doc-link fitted\">i<span>Fitted</span></span></label><div class=\"sk-toggleable__content fitted\"><pre>GaussianNB()</pre></div> </div></div></div></div>"
      ],
      "text/plain": [
       "GaussianNB()"
      ]
     },
     "execution_count": 38,
     "metadata": {},
     "output_type": "execute_result"
    }
   ],
   "source": [
    "# Train model\n",
    "NB = GaussianNB()\n",
    "NB.fit(x_train,y_train)"
   ]
  },
  {
   "cell_type": "code",
   "execution_count": 40,
   "id": "b2a565b9-56eb-4678-b70a-af3f265037d0",
   "metadata": {},
   "outputs": [
    {
     "data": {
      "text/plain": [
       "0.8238605898123325"
      ]
     },
     "execution_count": 40,
     "metadata": {},
     "output_type": "execute_result"
    }
   ],
   "source": [
    "NB.score(x_test,y_test)"
   ]
  },
  {
   "cell_type": "markdown",
   "id": "54d6fdc7-6637-45d7-9c2d-075e79123983",
   "metadata": {},
   "source": [
    "* We trained a model with  accuracy of 82%."
   ]
  },
  {
   "cell_type": "code",
   "execution_count": 42,
   "id": "e2a06abf-b3fd-42fe-828e-538d7f110988",
   "metadata": {},
   "outputs": [
    {
     "data": {
      "image/png": "[encoded data removed]",
      "text/plain": [
       "<Figure size 640x480 with 2 Axes>"
      ]
     },
     "metadata": {},
     "output_type": "display_data"
    }
   ],
   "source": [
    "from sklearn.metrics import confusion_matrix\n",
    "y_pred = NB.predict(x_test)\n",
    "\n",
    "conf = confusion_matrix(y_pred=y_pred,y_true=y_test)\n",
    "import seaborn\n",
    "seaborn.heatmap(conf,annot=True,fmt=\".1f\",linewidths=1.5)\n",
    "import matplotlib.pyplot as plt\n",
    "plt.show()"
   ]
  },
  {
   "cell_type": "markdown",
   "id": "5524a066-3aee-4340-a0a6-c4a51399b2e0",
   "metadata": {},
   "source": [
    "# Prediction\n",
    "In this section we will see how to make predictions on our model using pickle"
   ]
  },
  {
   "cell_type": "code",
   "execution_count": 45,
   "id": "7088c5aa-ab54-4cdc-9e10-96ee1bc60765",
   "metadata": {},
   "outputs": [],
   "source": [
    "import pickle\n",
    "# We will save count vectorizer and model\n",
    "with open(\"model.pckl\",mode=\"wb\") as F:\n",
    "    pickle.dump(NB,F)\n",
    "    \n",
    "with open(\"vectorizer.pckl\",mode=\"wb\") as F:\n",
    "    pickle.dump(vectorizer,F)"
   ]
  },
  {
   "cell_type": "code",
   "execution_count": 46,
   "id": "5e2ec9a3-d417-4053-885d-80a315e854bc",
   "metadata": {},
   "outputs": [],
   "source": [
    "def predict_mail(mail):\n",
    "    \n",
    "    model = pickle.load(open(\"model.pckl\",mode=\"rb\"))\n",
    "    vectorizer = pickle.load(open(\"vectorizer.pckl\",mode=\"rb\"))\n",
    "    \n",
    "    lemma = WordNetLemmatizer()\n",
    "    \n",
    "    stopwords = nltk.corpus.stopwords.words('english')\n",
    "    \n",
    "    mail = re.sub(r\"http\\S+\", \"\", mail)\n",
    "    mail = re.sub(\"[^a-zA-Z0-9]\",\" \",mail)\n",
    "    mail = mail.lower()\n",
    "    mail = nltk.word_tokenize(mail)\n",
    "    mail = [lemma.lemmatize(word) for word in mail]\n",
    "    mail = [word for word in mail if word not in stopwords]\n",
    "    mail = \" \".join(mail)\n",
    "    \n",
    "    vector = vectorizer.transform([mail])\n",
    "    decision = model.predict(vector.toarray())\n",
    "    \n",
    "    return decision[0]\n",
    "    \n",
    "    "
   ]
  },
  {
   "cell_type": "code",
   "execution_count": 51,
   "id": "fef975d3-7bcf-4cf6-9d8e-7f78838edea7",
   "metadata": {},
   "outputs": [
    {
     "data": {
      "text/plain": [
       "1"
      ]
     },
     "execution_count": 51,
     "metadata": {},
     "output_type": "execute_result"
    }
   ],
   "source": [
    "predict_mail(\"Whats up?\")"
   ]
  },
  {
   "cell_type": "code",
   "execution_count": 53,
   "id": "e90957aa-39a3-4450-b4bf-2a71e82e7242",
   "metadata": {},
   "outputs": [
    {
     "data": {
      "text/plain": [
       "1"
      ]
     },
     "execution_count": 53,
     "metadata": {},
     "output_type": "execute_result"
    }
   ],
   "source": [
    "predict_mail(\"0\")"
   ]
  },
  {
   "cell_type": "code",
   "execution_count": null,
   "id": "da177774-8f2d-46ce-9fb2-04ad165799e3",
   "metadata": {},
   "outputs": [],
   "source": []
  }
 ],
 "metadata": {
  "kernelspec": {
   "display_name": "Python 3 (ipykernel)",
   "language": "python",
   "name": "python3"
  },
  "language_info": {
   "codemirror_mode": {
    "name": "ipython",
    "version": 3
   },
   "file_extension": ".py",
   "mimetype": "text/x-python",
   "name": "python",
   "nbconvert_exporter": "python",
   "pygments_lexer": "ipython3",
   "version": "3.10.14"
  }
 },
 "nbformat": 4,
 "nbformat_minor": 5
}
